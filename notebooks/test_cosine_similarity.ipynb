{
 "cells": [
  {
   "cell_type": "markdown",
   "metadata": {},
   "source": [
    "# Import libraries"
   ]
  },
  {
   "cell_type": "code",
   "execution_count": 1,
   "metadata": {},
   "outputs": [
    {
     "data": {
      "text/plain": [
       "'d:\\\\Projects_D\\\\Movie_Recommender\\\\notebooks'"
      ]
     },
     "execution_count": 1,
     "metadata": {},
     "output_type": "execute_result"
    }
   ],
   "source": [
    "import pandas as pd\n",
    "import numpy as np\n",
    "import os\n",
    "os.getcwd()"
   ]
  },
  {
   "cell_type": "code",
   "execution_count": 2,
   "metadata": {},
   "outputs": [
    {
     "data": {
      "text/plain": [
       "'d:\\\\Projects_D\\\\Movie_Recommender'"
      ]
     },
     "execution_count": 2,
     "metadata": {},
     "output_type": "execute_result"
    }
   ],
   "source": [
    "os.chdir(\"..\")\n",
    "os.getcwd()"
   ]
  },
  {
   "cell_type": "code",
   "execution_count": 3,
   "metadata": {},
   "outputs": [
    {
     "name": "stdout",
     "output_type": "stream",
     "text": [
      "2.0.1+cu117\n"
     ]
    }
   ],
   "source": [
    "import torch\n",
    "print(torch.__version__)"
   ]
  },
  {
   "cell_type": "code",
   "execution_count": 4,
   "metadata": {},
   "outputs": [
    {
     "name": "stderr",
     "output_type": "stream",
     "text": [
      "d:\\Projects_D\\Movie_Recommender\\venv_movie_rcmm_v2\\lib\\site-packages\\tqdm\\auto.py:21: TqdmWarning: IProgress not found. Please update jupyter and ipywidgets. See https://ipywidgets.readthedocs.io/en/stable/user_install.html\n",
      "  from .autonotebook import tqdm as notebook_tqdm\n"
     ]
    }
   ],
   "source": [
    "from sentence_transformers import SentenceTransformer\n",
    "from sklearn.metrics.pairwise import cosine_similarity"
   ]
  },
  {
   "cell_type": "markdown",
   "metadata": {},
   "source": [
    "# Load dataframe"
   ]
  },
  {
   "cell_type": "code",
   "execution_count": 5,
   "metadata": {},
   "outputs": [
    {
     "name": "stdout",
     "output_type": "stream",
     "text": [
      "Successfully loaded 8551 movies from data/raw/movies.csv\n"
     ]
    }
   ],
   "source": [
    "# Load the movies dataset\n",
    "# (Make sure the file \"movies.csv\" is in \"data/raw/\" folder)\n",
    "data_path = \"data/raw/movies.csv\"\n",
    "try:\n",
    "    df = pd.read_csv(data_path)\n",
    "    print(f\"Successfully loaded {len(df)} movies from {data_path}\")\n",
    "except FileNotFoundError:\n",
    "    print(f\"Error: Could not find file at {data_path}\")\n",
    "    raise"
   ]
  },
  {
   "cell_type": "code",
   "execution_count": 6,
   "metadata": {},
   "outputs": [
    {
     "name": "stdout",
     "output_type": "stream",
     "text": [
      "<class 'pandas.core.frame.DataFrame'>\n",
      "RangeIndex: 8551 entries, 0 to 8550\n",
      "Data columns (total 8 columns):\n",
      " #   Column        Non-Null Count  Dtype  \n",
      "---  ------        --------------  -----  \n",
      " 0   Unnamed: 0    8551 non-null   int64  \n",
      " 1   id            8551 non-null   int64  \n",
      " 2   title         8551 non-null   object \n",
      " 3   overview      8531 non-null   object \n",
      " 4   release_date  8551 non-null   object \n",
      " 5   popularity    8551 non-null   float64\n",
      " 6   vote_average  8551 non-null   float64\n",
      " 7   vote_count    8551 non-null   int64  \n",
      "dtypes: float64(2), int64(3), object(3)\n",
      "memory usage: 534.6+ KB\n"
     ]
    }
   ],
   "source": [
    "df.info()"
   ]
  },
  {
   "cell_type": "code",
   "execution_count": 7,
   "metadata": {},
   "outputs": [
    {
     "data": {
      "text/plain": [
       "(8551, 8)"
      ]
     },
     "execution_count": 7,
     "metadata": {},
     "output_type": "execute_result"
    }
   ],
   "source": [
    "df.shape"
   ]
  },
  {
   "cell_type": "code",
   "execution_count": 8,
   "metadata": {},
   "outputs": [
    {
     "data": {
      "text/plain": [
       "Unnamed: 0       0\n",
       "id               0\n",
       "title            0\n",
       "overview        20\n",
       "release_date     0\n",
       "popularity       0\n",
       "vote_average     0\n",
       "vote_count       0\n",
       "dtype: int64"
      ]
     },
     "execution_count": 8,
     "metadata": {},
     "output_type": "execute_result"
    }
   ],
   "source": [
    "df.isna().sum()"
   ]
  },
  {
   "cell_type": "code",
   "execution_count": 9,
   "metadata": {},
   "outputs": [
    {
     "data": {
      "text/html": [
       "<div>\n",
       "<style scoped>\n",
       "    .dataframe tbody tr th:only-of-type {\n",
       "        vertical-align: middle;\n",
       "    }\n",
       "\n",
       "    .dataframe tbody tr th {\n",
       "        vertical-align: top;\n",
       "    }\n",
       "\n",
       "    .dataframe thead th {\n",
       "        text-align: right;\n",
       "    }\n",
       "</style>\n",
       "<table border=\"1\" class=\"dataframe\">\n",
       "  <thead>\n",
       "    <tr style=\"text-align: right;\">\n",
       "      <th></th>\n",
       "      <th>Unnamed: 0</th>\n",
       "      <th>id</th>\n",
       "      <th>title</th>\n",
       "      <th>overview</th>\n",
       "      <th>release_date</th>\n",
       "      <th>popularity</th>\n",
       "      <th>vote_average</th>\n",
       "      <th>vote_count</th>\n",
       "    </tr>\n",
       "  </thead>\n",
       "  <tbody>\n",
       "    <tr>\n",
       "      <th>270</th>\n",
       "      <td>270</td>\n",
       "      <td>160885</td>\n",
       "      <td>Tel chi el telùn</td>\n",
       "      <td>NaN</td>\n",
       "      <td>1999-05-12</td>\n",
       "      <td>4.733</td>\n",
       "      <td>8.0</td>\n",
       "      <td>272</td>\n",
       "    </tr>\n",
       "    <tr>\n",
       "      <th>394</th>\n",
       "      <td>394</td>\n",
       "      <td>564427</td>\n",
       "      <td>Minha Vida em Marte</td>\n",
       "      <td>NaN</td>\n",
       "      <td>2018-12-27</td>\n",
       "      <td>5.243</td>\n",
       "      <td>7.9</td>\n",
       "      <td>244</td>\n",
       "    </tr>\n",
       "    <tr>\n",
       "      <th>2111</th>\n",
       "      <td>2111</td>\n",
       "      <td>56825</td>\n",
       "      <td>Classmates</td>\n",
       "      <td>NaN</td>\n",
       "      <td>1988-12-12</td>\n",
       "      <td>5.395</td>\n",
       "      <td>7.2</td>\n",
       "      <td>246</td>\n",
       "    </tr>\n",
       "    <tr>\n",
       "      <th>3714</th>\n",
       "      <td>3714</td>\n",
       "      <td>53957</td>\n",
       "      <td>La matassa</td>\n",
       "      <td>NaN</td>\n",
       "      <td>2009-03-13</td>\n",
       "      <td>5.562</td>\n",
       "      <td>6.7</td>\n",
       "      <td>381</td>\n",
       "    </tr>\n",
       "    <tr>\n",
       "      <th>4844</th>\n",
       "      <td>4844</td>\n",
       "      <td>26285</td>\n",
       "      <td>Fantozzi Still Suffers</td>\n",
       "      <td>NaN</td>\n",
       "      <td>1983-01-01</td>\n",
       "      <td>7.195</td>\n",
       "      <td>6.4</td>\n",
       "      <td>343</td>\n",
       "    </tr>\n",
       "  </tbody>\n",
       "</table>\n",
       "</div>"
      ],
      "text/plain": [
       "      Unnamed: 0      id                   title overview release_date  \\\n",
       "270          270  160885        Tel chi el telùn      NaN   1999-05-12   \n",
       "394          394  564427     Minha Vida em Marte      NaN   2018-12-27   \n",
       "2111        2111   56825              Classmates      NaN   1988-12-12   \n",
       "3714        3714   53957              La matassa      NaN   2009-03-13   \n",
       "4844        4844   26285  Fantozzi Still Suffers      NaN   1983-01-01   \n",
       "\n",
       "      popularity  vote_average  vote_count  \n",
       "270        4.733           8.0         272  \n",
       "394        5.243           7.9         244  \n",
       "2111       5.395           7.2         246  \n",
       "3714       5.562           6.7         381  \n",
       "4844       7.195           6.4         343  "
      ]
     },
     "execution_count": 9,
     "metadata": {},
     "output_type": "execute_result"
    }
   ],
   "source": [
    "df[df[\"overview\"].isna()].head()"
   ]
  },
  {
   "cell_type": "code",
   "execution_count": 10,
   "metadata": {},
   "outputs": [
    {
     "data": {
      "text/plain": [
       "(8531, 8)"
      ]
     },
     "execution_count": 10,
     "metadata": {},
     "output_type": "execute_result"
    }
   ],
   "source": [
    "# Drop rows with missing overviews\n",
    "df = df.dropna(subset=['overview'])\n",
    "df.shape"
   ]
  },
  {
   "cell_type": "markdown",
   "metadata": {},
   "source": [
    "# Cosine similarity\n"
   ]
  },
  {
   "cell_type": "code",
   "execution_count": 11,
   "metadata": {},
   "outputs": [
    {
     "name": "stderr",
     "output_type": "stream",
     "text": [
      "d:\\Projects_D\\Movie_Recommender\\venv_movie_rcmm_v2\\lib\\site-packages\\huggingface_hub\\file_download.py:140: UserWarning: `huggingface_hub` cache-system uses symlinks by default to efficiently store duplicated files but your machine does not support them in C:\\Users\\gurei\\.cache\\huggingface\\hub\\models--sentence-transformers--all-MiniLM-L6-v2. Caching files will still work but in a degraded version that might require more space on your disk. This warning can be disabled by setting the `HF_HUB_DISABLE_SYMLINKS_WARNING` environment variable. For more details, see https://huggingface.co/docs/huggingface_hub/how-to-cache#limitations.\n",
      "To support symlinks on Windows, you either need to activate Developer Mode or to run Python as an administrator. In order to activate developer mode, see this article: https://docs.microsoft.com/en-us/windows/apps/get-started/enable-your-device-for-development\n",
      "  warnings.warn(message)\n"
     ]
    }
   ],
   "source": [
    "# Instantiate a SentenceTransformer model (using a popular pre-trained model)\n",
    "model = SentenceTransformer('all-MiniLM-L6-v2')"
   ]
  },
  {
   "cell_type": "code",
   "execution_count": 12,
   "metadata": {},
   "outputs": [
    {
     "name": "stdout",
     "output_type": "stream",
     "text": [
      "Computing embeddings for movie descriptions...\n"
     ]
    },
    {
     "name": "stderr",
     "output_type": "stream",
     "text": [
      "Batches: 100%|██████████| 267/267 [00:17<00:00, 15.03it/s]\n"
     ]
    }
   ],
   "source": [
    "# Compute embeddings for all movie descriptions\n",
    "# A progress bar is shown during encoding\n",
    "print(\"Computing embeddings for movie descriptions...\")\n",
    "embeddings = model.encode(df['overview'].tolist(), show_progress_bar=True)"
   ]
  },
  {
   "cell_type": "code",
   "execution_count": 13,
   "metadata": {},
   "outputs": [],
   "source": [
    "# Define a function to get the top-k most similar movies based on cosine similarity\n",
    "def get_similar_movies(movie_index, embeddings, top_k=5):\n",
    "    \"\"\"\n",
    "    Given a movie index, return the indices of the top_k most similar movies based on the cosine similarity.\n",
    "    \"\"\"\n",
    "    # Retrieve the embedding vector of the selected movie\n",
    "    selected_embedding = embeddings[movie_index].reshape(1, -1)\n",
    "    \n",
    "    # Compute cosine similarities between the selected movie and all movies in the dataset\n",
    "    similarities = cosine_similarity(selected_embedding, embeddings)[0]\n",
    "    \n",
    "    # Sort the indices of similarities in descending order and exclude the selected movie itself\n",
    "    sorted_indices = np.argsort(-similarities)\n",
    "    similar_indices = [idx for idx in sorted_indices if idx != movie_index]\n",
    "    \n",
    "    # Return the top_k similar movie indices\n",
    "    return similar_indices[:top_k]"
   ]
  },
  {
   "cell_type": "code",
   "execution_count": 14,
   "metadata": {},
   "outputs": [],
   "source": [
    "# Testing the function: Select a movie (e.g., the first movie in the DataFrame)\n",
    "selected_movie_index = 0  # Change this index to test with another movie\n",
    "top_similar_indices = get_similar_movies(selected_movie_index, embeddings, top_k=5)"
   ]
  },
  {
   "cell_type": "code",
   "execution_count": 15,
   "metadata": {},
   "outputs": [
    {
     "name": "stdout",
     "output_type": "stream",
     "text": [
      "\n",
      "Selected movie: Dilwale Dulhania Le Jayenge\n",
      "Top 5 similar movies based on description:\n",
      "- Kabhi Khushi Kabhie Gham (Similarity: 0.5648)\n",
      "- Chennai Express (Similarity: 0.5008)\n",
      "- Pather Panchali (Similarity: 0.4547)\n",
      "- The Lion King II: Simba's Pride (Similarity: 0.4529)\n",
      "- Kuch Kuch Hota Hai (Similarity: 0.4502)\n"
     ]
    }
   ],
   "source": [
    "# Print the title of the selected movie and its top 5 similar movies\n",
    "selected_title = df.iloc[selected_movie_index]['title']\n",
    "print(f\"\\nSelected movie: {selected_title}\")\n",
    "print(\"Top 5 similar movies based on description:\")\n",
    "for idx in top_similar_indices:\n",
    "    similar_title = df.iloc[idx]['title']\n",
    "    # Calculate similarity value for display purpose\n",
    "    sim_value = cosine_similarity(embeddings[selected_movie_index].reshape(1, -1),\n",
    "                                  embeddings[idx].reshape(1, -1))[0][0]\n",
    "    print(f\"- {similar_title} (Similarity: {sim_value:.4f})\")"
   ]
  }
 ],
 "metadata": {
  "kernelspec": {
   "display_name": "Python 3",
   "language": "python",
   "name": "python3"
  },
  "language_info": {
   "codemirror_mode": {
    "name": "ipython",
    "version": 3
   },
   "file_extension": ".py",
   "mimetype": "text/x-python",
   "name": "python",
   "nbconvert_exporter": "python",
   "pygments_lexer": "ipython3",
   "version": "3.9.21"
  }
 },
 "nbformat": 4,
 "nbformat_minor": 2
}
