{
 "cells": [
  {
   "cell_type": "code",
   "execution_count": 1,
   "metadata": {},
   "outputs": [
    {
     "name": "stdout",
     "output_type": "stream",
     "text": [
      "Modelos disponibles:\n",
      "- paraphrase-MiniLM-L6-v2\n",
      "- my-sagemaker-model_v2\n",
      "- my_custom_onnx_model\n",
      "- all-MiniLM-L6-v2\n",
      "- bert-base-uncased\n"
     ]
    }
   ],
   "source": [
    "import sys\n",
    "sys.path.append('..')\n",
    "\n",
    "import psutil\n",
    "import os\n",
    "from src.model.embeddings import load_embedding_model\n",
    "from src.config.model_config import MODEL_CONFIG\n",
    "\n",
    "print(\"Modelos disponibles:\")\n",
    "for model in MODEL_CONFIG.keys():\n",
    "    print(f\"- {model}\")"
   ]
  },
  {
   "cell_type": "code",
   "execution_count": 2,
   "metadata": {},
   "outputs": [],
   "source": [
    "def get_memory_usage():\n",
    "    \"\"\"Obtiene el uso actual de memoria en GB\"\"\"\n",
    "    process = psutil.Process(os.getpid())\n",
    "    mem_info = process.memory_info()\n",
    "    return mem_info.rss / 1024 / 1024 / 1024  # Convertir a GB"
   ]
  },
  {
   "cell_type": "code",
   "execution_count": 5,
   "metadata": {},
   "outputs": [
    {
     "name": "stdout",
     "output_type": "stream",
     "text": [
      "Memoria inicial: 0.08 GB\n",
      "\n",
      "Cargando modelo: paraphrase-MiniLM-L6-v2\n"
     ]
    },
    {
     "name": "stderr",
     "output_type": "stream",
     "text": [
      "d:\\Projects_D\\Movie_Recommender\\venv_movie_rcmm_v4\\lib\\site-packages\\tqdm\\auto.py:21: TqdmWarning: IProgress not found. Please update jupyter and ipywidgets. See https://ipywidgets.readthedocs.io/en/stable/user_install.html\n",
      "  from .autonotebook import tqdm as notebook_tqdm\n"
     ]
    },
    {
     "name": "stdout",
     "output_type": "stream",
     "text": [
      "Memoria usada por paraphrase-MiniLM-L6-v2: 0.40 GB\n",
      "Memoria total: 0.48 GB\n"
     ]
    }
   ],
   "source": [
    "# Memoria antes de cargar el modelo\n",
    "initial_memory = get_memory_usage()\n",
    "print(f\"Memoria inicial: {initial_memory:.2f} GB\")\n",
    "\n",
    "# Cargar el modelo que quieras probar\n",
    "model_name = \"paraphrase-MiniLM-L6-v2\"  # Cambia esto al modelo que quieras probar\n",
    "print(f\"\\nCargando modelo: {model_name}\")\n",
    "\n",
    "# Cargar modelo\n",
    "model = load_embedding_model(model_name)\n",
    "\n",
    "# Medir memoria después de cargar\n",
    "current_memory = get_memory_usage()\n",
    "memory_used = current_memory - initial_memory\n",
    "\n",
    "print(f\"Memoria usada por {model_name}: {memory_used:.2f} GB\")\n",
    "print(f\"Memoria total: {current_memory:.2f} GB\")"
   ]
  },
  {
   "cell_type": "code",
   "execution_count": 3,
   "metadata": {},
   "outputs": [
    {
     "name": "stdout",
     "output_type": "stream",
     "text": [
      "Memoria inicial: 0.08 GB\n",
      "\n",
      "Cargando modelo: all-MiniLM-L6-v2\n"
     ]
    },
    {
     "name": "stderr",
     "output_type": "stream",
     "text": [
      "d:\\Projects_D\\Movie_Recommender\\venv_movie_rcmm_v4\\lib\\site-packages\\tqdm\\auto.py:21: TqdmWarning: IProgress not found. Please update jupyter and ipywidgets. See https://ipywidgets.readthedocs.io/en/stable/user_install.html\n",
      "  from .autonotebook import tqdm as notebook_tqdm\n"
     ]
    },
    {
     "name": "stdout",
     "output_type": "stream",
     "text": [
      "Memoria usada por all-MiniLM-L6-v2: 0.39 GB\n",
      "Memoria total: 0.47 GB\n"
     ]
    }
   ],
   "source": [
    "# Memoria antes de cargar el modelo\n",
    "initial_memory = get_memory_usage()\n",
    "print(f\"Memoria inicial: {initial_memory:.2f} GB\")\n",
    "\n",
    "# Cargar el modelo que quieras probar\n",
    "model_name = \"all-MiniLM-L6-v2\"  # Cambia esto al modelo que quieras probar\n",
    "print(f\"\\nCargando modelo: {model_name}\")\n",
    "\n",
    "# Cargar modelo\n",
    "model = load_embedding_model(model_name)\n",
    "\n",
    "# Medir memoria después de cargar\n",
    "current_memory = get_memory_usage()\n",
    "memory_used = current_memory - initial_memory\n",
    "\n",
    "print(f\"Memoria usada por {model_name}: {memory_used:.2f} GB\")\n",
    "print(f\"Memoria total: {current_memory:.2f} GB\")"
   ]
  }
 ],
 "metadata": {
  "kernelspec": {
   "display_name": "Python 3",
   "language": "python",
   "name": "python3"
  },
  "language_info": {
   "codemirror_mode": {
    "name": "ipython",
    "version": 3
   },
   "file_extension": ".py",
   "mimetype": "text/x-python",
   "name": "python",
   "nbconvert_exporter": "python",
   "pygments_lexer": "ipython3",
   "version": "3.9.21"
  }
 },
 "nbformat": 4,
 "nbformat_minor": 2
}
